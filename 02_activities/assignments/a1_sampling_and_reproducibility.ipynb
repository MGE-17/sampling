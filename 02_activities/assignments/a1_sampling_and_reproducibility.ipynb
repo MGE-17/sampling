{
 "cells": [
  {
   "cell_type": "markdown",
   "id": "ed39f379",
   "metadata": {},
   "source": [
    "# Assignment 1: Sampling and Reproducibility\n",
    "\n",
    "The code at the end of this file explores contact tracing data about an outbreak of the flu, and demonstrates the dangers of incomplete and non-random samples. This assignment is modified from [Contact tracing can give a biased sample of COVID-19 cases](https://andrewwhitby.com/2020/11/24/contact-tracing-biased/) by Andrew Whitby.\n",
    "\n",
    "Examine the code below. Identify all stages at which sampling is occurring in the model. Describe in words the sampling procedure, referencing the functions used, sample size, sampling frame, any underlying distributions involved. \n"
   ]
  },
  {
   "cell_type": "markdown",
   "id": "4ea73db3",
   "metadata": {},
   "source": [
    "population frame = ['wedding'] * 200 + ['brunch'] * 800\n",
    "\n",
    "infection sampling\n",
    "- infected_indices = np.random.choice(ppl.index, size=int(len(ppl) * ATTACK_RATE), replace=False)\n",
    "- About 10% of the population is randomly infected using sampling without replacement \n",
    "\n",
    "ppl.loc[ppl['infected'], 'traced'] = np.random.rand(sum(ppl['infected'])) < TRACE_SUCCESS\n",
    "- Roughly 20% of infected individuals are randomly traced (Bernoulli sampling with p = 0.2). These represent detected positive cases.\n",
    "\n",
    "ppl.loc[ppl['event'].isin(events_traced) & ppl['infected'], 'traced'] = True\n",
    "- The secondary tracing block identifies events where at least two infected individuals were already traced, then assumes health authorities would expand tracing to - all infected people from those events.\n",
    "- This step introduces sampling bias, because certain events (e.g., weddings) become overrepresented in traced data once they cross the arbitrary threshold, even - - if the true infection rate was similar across events.\n",
    "\n",
    "As Whitby (2020) describes, “if you only actually contact trace cases in schools and health care facilities, you’re going to discover that all your traceable cases come from schools and health care facilities.”\n",
    "\n",
    "In the historgram below blue bars are the infections that actually ocurrered at the weddings and the red bars are the traced cases attributed to the weddings \n",
    "Contact tracing tends to overestimate the share of infections from weddings.\n",
    "This happens because the secondary rule  (if>2) happens then they trace everyone at the event. this amplifies the attention givent o weddings \n"
   ]
  },
  {
   "cell_type": "markdown",
   "id": "3d9b2ccc",
   "metadata": {},
   "source": [
    "Modify the number of repetitions in the simulation to 10 and 100 (from the original 1000). Run the script multiple times and observe the outputted graphs. Comment on the reproducibility of the results."
   ]
  },
  {
   "cell_type": "markdown",
   "id": "4cf5d993",
   "metadata": {},
   "source": [
    "When we change the range from 1000 to 10 the images gets 3 big blocks. the sample size is too small to draw any decisive conclusions \n",
    "Each bar represents a few simulation outcomes, so small random differences have a visual impact. this refelects high sampling variability \n",
    "\n",
    "When range = 100 the graph get a little smoother, resambling the graph seen range = 1000. the distribution stabilizes as more random samples are aggregated \n",
    "\n",
    "Low repetition counts produce high noise and unstable estimates, while larger ranges closely resamble real life situations. "
   ]
  },
  {
   "cell_type": "markdown",
   "id": "32603ce7",
   "metadata": {},
   "source": [
    "Alter the code so that it is reproducible. Describe the changes you made to the code and how they affected the reproducibility of the script. The output needs to produce the same output when run multiple times."
   ]
  },
  {
   "cell_type": "markdown",
   "id": "77613cc3",
   "metadata": {},
   "source": [
    "The random function on python uses different seed numbers this produces slighly different results everytime we run the code. specially for smaller samples \n",
    "\n",
    "When we want to code to be reproducible by anybody ie so they get the same results we did \n",
    "\n",
    "We can give the random number a seed value. In this case I chose 123. \n",
    "\n",
    "run = np.random.default_rng(seed=123)\n",
    "\n"
   ]
  },
  {
   "cell_type": "markdown",
   "id": "30b4a74f",
   "metadata": {},
   "source": [
    "## Code"
   ]
  },
  {
   "cell_type": "code",
   "execution_count": 20,
   "id": "ab8587a0",
   "metadata": {},
   "outputs": [
    {
     "data": {
      "image/png": "[encoded data removed]",
      "text/plain": [
       "<Figure size 1000x600 with 1 Axes>"
      ]
     },
     "metadata": {},
     "output_type": "display_data"
    }
   ],
   "source": [
    "# Import necessary libraries\n",
    "import pandas as pd\n",
    "import numpy as np\n",
    "import matplotlib.pyplot as plt\n",
    "import seaborn as sns\n",
    "\n",
    "ran = np.random.default_rng(seed=123)\n",
    "\n",
    "# Note: Suppressing FutureWarnings to maintain a clean output. This is specifically to ignore warnings about\n",
    "# deprecated features in the libraries we're using (e.g., 'use_inf_as_na' option in Pandas, used by Seaborn),\n",
    "# which we currently have no direct control over. This action is taken to ensure that our output remains\n",
    "# focused on relevant information, acknowledging that we rely on external library updates to fully resolve\n",
    "# these deprecations. Always consider reviewing and removing this suppression after significant library updates.\n",
    "import warnings\n",
    "warnings.simplefilter(action='ignore', category=FutureWarning)\n",
    "\n",
    "# Constants representing the parameters of the model\n",
    "ATTACK_RATE = 0.10\n",
    "TRACE_SUCCESS = 0.20\n",
    "SECONDARY_TRACE_THRESHOLD = 2\n",
    "\n",
    "def simulate_event(m):\n",
    "  \"\"\"\n",
    "  Simulates the infection and tracing process for a series of events.\n",
    "  \n",
    "  This function creates a DataFrame representing individuals attending weddings and brunches,\n",
    "  infects a subset of them based on the ATTACK_RATE, performs primary and secondary contact tracing,\n",
    "  and calculates the proportions of infections and traced cases that are attributed to weddings.\n",
    "  \n",
    "  Parameters:\n",
    "  - m: Dummy parameter for iteration purposes.\n",
    "  \n",
    "  Returns:\n",
    "  - A tuple containing the proportion of infections and the proportion of traced cases\n",
    "    that are attributed to weddings.\n",
    "  \"\"\"\n",
    "  # Create DataFrame for people at events with initial infection and traced status\n",
    "  events = ['wedding'] * 200 + ['brunch'] * 800\n",
    "  ppl = pd.DataFrame({\n",
    "      'event': events,\n",
    "      'infected': False,\n",
    "      'traced': np.nan  # Initially setting traced status as NaN\n",
    "  })\n",
    "\n",
    "  # Explicitly set 'traced' column to nullable boolean type\n",
    "  ppl['traced'] = ppl['traced'].astype(pd.BooleanDtype())\n",
    "\n",
    "  # Infect a random subset of people\n",
    "  infected_indices = ran.choice(ppl.index, size=int(len(ppl) * ATTACK_RATE), replace=False)\n",
    "  ppl.loc[infected_indices, 'infected'] = True\n",
    "\n",
    "  # Primary contact tracing: randomly decide which infected people get traced\n",
    "  ppl.loc[ppl['infected'], 'traced'] = ran.random(sum(ppl['infected'])) < TRACE_SUCCESS\n",
    "\n",
    "  # Secondary contact tracing based on event attendance\n",
    "  event_trace_counts = ppl[ppl['traced'] == True]['event'].value_counts()\n",
    "  events_traced = event_trace_counts[event_trace_counts >= SECONDARY_TRACE_THRESHOLD].index\n",
    "  ppl.loc[ppl['event'].isin(events_traced) & ppl['infected'], 'traced'] = True\n",
    "\n",
    "  # Calculate proportions of infections and traces attributed to each event type\n",
    "  ppl['event_type'] = ppl['event'].str[0]  # 'w' for wedding, 'b' for brunch\n",
    "  wedding_infections = sum(ppl['infected'] & (ppl['event_type'] == 'w'))\n",
    "  brunch_infections = sum(ppl['infected'] & (ppl['event_type'] == 'b')) \n",
    "  p_wedding_infections = wedding_infections / (wedding_infections + brunch_infections)\n",
    "\n",
    "  wedding_traces = sum(ppl['infected'] & ppl['traced'] & (ppl['event_type'] == 'w'))\n",
    "  brunch_traces = sum(ppl['infected'] & ppl['traced'] & (ppl['event_type'] == 'b'))\n",
    "  p_wedding_traces = wedding_traces / (wedding_traces + brunch_traces)\n",
    "\n",
    "  return p_wedding_infections, p_wedding_traces\n",
    "\n",
    "# Run the simulation 1000 times\n",
    "results = [simulate_event(m) for m in range(100)]\n",
    "props_df = pd.DataFrame(results, columns=[\"Infections\", \"Traces\"])\n",
    "\n",
    "# Plotting the results\n",
    "plt.figure(figsize=(10, 6))\n",
    "sns.histplot(props_df['Infections'], color=\"blue\", alpha=0.75, binwidth=0.05, kde=False, label='Infections from Weddings')\n",
    "sns.histplot(props_df['Traces'], color=\"red\", alpha=0.75, binwidth=0.05, kde=False, label='Traced to Weddings')\n",
    "plt.xlabel(\"Proportion of cases\")\n",
    "plt.ylabel(\"Frequency\")\n",
    "plt.title(\"Impact of Contact Tracing on Perceived Flu Infection Sources\")\n",
    "plt.legend()\n",
    "plt.tight_layout()\n",
    "plt.show()"
   ]
  },
  {
   "cell_type": "code",
   "execution_count": null,
   "id": "0a02a1ba",
   "metadata": {},
   "outputs": [],
   "source": []
  },
  {
   "cell_type": "markdown",
   "id": "f418c720",
   "metadata": {},
   "source": [
    "## Criteria"
   ]
  },
  {
   "cell_type": "markdown",
   "id": "c0b3f93f",
   "metadata": {},
   "source": [
    "|Criteria|Complete|Incomplete|\n",
    "|--------|----|----|\n",
    "|Alteration of the code|The code changes made, made it reproducible.|The code is still not reproducible.|\n",
    "|Description of changes|The author answered questions and explained the reasonings for the changes made well.|The author did not answer questions or explain the reasonings for the changes made well.|"
   ]
  },
  {
   "cell_type": "markdown",
   "id": "83cec589",
   "metadata": {},
   "source": [
    "## Submission Information\n",
    "🚨 **Please review our [Assignment Submission Guide](https://github.com/UofT-DSI/onboarding/blob/main/onboarding_documents/submissions.md)** 🚨 for detailed instructions on how to format, branch, and submit your work. Following these guidelines is crucial for your submissions to be evaluated correctly.\n",
    "\n",
    "### Submission Parameters:\n",
    "* Submission Due Date: `23:59 - 12/10/2025`\n",
    "* The branch name for your repo should be: `assignment-1`\n",
    "* What to submit for this assignment:\n",
    "    * This markdown file (`a1_sampling_and_reproducibility.ipynb`) should be populated with the code changed.\n",
    "* What the pull request link should look like for this assignment: `https://github.com/<your_github_username>/sampling/pull/<pr_id>`\n",
    "    * Open a private window in your browser. Copy and paste the link to your pull request into the address bar. Make sure you can see your pull request properly. This helps the technical facilitator and learning support staff review your submission easily.\n",
    "\n",
    "#### Checklist:\n",
    "- [ ] Create a branch called `assignment-1`.\n",
    "- [ ] Ensure that the repository is public.\n",
    "- [ ] Review [the PR description guidelines](https://github.com/UofT-DSI/onboarding/blob/main/onboarding_documents/submissions.md#guidelines-for-pull-request-descriptions) and adhere to them.\n",
    "- [ ] Verify that the link is accessible in a private browser window.\n",
    "\n",
    "If you encounter any difficulties or have questions, please don't hesitate to reach out to our team via the help channel in Slack. Our Technical Facilitators and Learning Support staff are here to help you navigate any challenges.\n"
   ]
  }
 ],
 "metadata": {
  "kernelspec": {
   "display_name": "dsi_participant",
   "language": "python",
   "name": "python3"
  },
  "language_info": {
   "codemirror_mode": {
    "name": "ipython",
    "version": 3
   },
   "file_extension": ".py",
   "mimetype": "text/x-python",
   "name": "python",
   "nbconvert_exporter": "python",
   "pygments_lexer": "ipython3",
   "version": "3.9.23"
  }
 },
 "nbformat": 4,
 "nbformat_minor": 5
}
